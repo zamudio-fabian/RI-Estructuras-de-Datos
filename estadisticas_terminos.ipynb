{
 "cells": [
  {
   "cell_type": "markdown",
   "metadata": {},
   "source": [
    "Importo las librerias a usar."
   ]
  },
  {
   "cell_type": "code",
   "execution_count": 1,
   "metadata": {},
   "outputs": [],
   "source": [
    "import codecs\n",
    "import numpy as np\n",
    "import matplotlib.pyplot as plt"
   ]
  },
  {
   "cell_type": "markdown",
   "metadata": {},
   "source": [
    "Cargo los términos del archivo \"words-en.txt\" y guardos sus tamaños."
   ]
  },
  {
   "cell_type": "code",
   "execution_count": 2,
   "metadata": {},
   "outputs": [],
   "source": [
    "PATH_TERMINOS = \"words-en.txt\"\n",
    "\n",
    "len_terminos = []\n",
    "\n",
    "with codecs.open(PATH_TERMINOS, mode=\"r\", encoding=\"utf-8\") as file_terminos:\n",
    "    for linea in file_terminos:\n",
    "        termino = linea.strip(\"\\n\")\n",
    "        if termino:\n",
    "            len_terminos.append(len(termino))"
   ]
  },
  {
   "cell_type": "markdown",
   "metadata": {},
   "source": [
    "Las estadísticas que se tomaron son:\n",
    "- El peso total resultante de sumar las longitudes de todos los términos\n",
    "- La mínima y máxima longitud de un término\n",
    "- La longitud promedio y la mediana de las longitudes\n",
    "- La cantidad de términos\n",
    "- El peso de los términos si se almacenan como \"dictionary-as-string\" con 4 bytes para el df, 4 bytes para los punteros a las postings y 3 bytes para los punteros a los términos dentro del string"
   ]
  },
  {
   "cell_type": "code",
   "execution_count": 3,
   "metadata": {},
   "outputs": [
    {
     "name": "stdout",
     "output_type": "stream",
     "text": [
      "Estadísticas\n",
      "SUMA DE LOS PESOS DE LOS TÉRMINOS: 3.20195102692 megabytes\n",
      "LONG PROMEDIO DE LOS TÉRMINOS: 9.46 caracteres\n",
      "MAX LONG DE UN TÉRMINO: 31 caracteres\n",
      "MIN LONG DE UN TÉRMINO: 1 caracteres\n",
      "LONG DE TÉRMINO MEDIANA: 9.0 caracteres\n",
      "CANTIDAD DE TÉRMINOS: 354935\n",
      "PESO DEL DICCIONARIO: 6.92536735535 megabytes\n"
     ]
    }
   ],
   "source": [
    "suma_len_terminos = sum(leng for leng in len_terminos)\n",
    "max_len_termino = max(len_terminos)\n",
    "min_len_termino = min(len_terminos)\n",
    "len_termino_mediana = np.median(len_terminos)\n",
    "cant_terminos = len(len_terminos)\n",
    "peso_df = cant_terminos * 4\n",
    "peso_punteros_pos = cant_terminos * 4\n",
    "peso_punteros_ter = cant_terminos * 3\n",
    "peso_dic_as_string = suma_len_terminos + peso_df + peso_punteros_pos + peso_punteros_ter\n",
    "        \n",
    "print u\"Estadísticas\"\n",
    "print u\"SUMA DE LOS PESOS DE LOS TÉRMINOS: \" + str(suma_len_terminos / float(1024 * 1024)) + \" megabytes\"\n",
    "print u\"LONG PROMEDIO DE LOS TÉRMINOS: \" + str(round(suma_len_terminos / float(cant_terminos), 2)) + \" caracteres\"\n",
    "print u\"MAX LONG DE UN TÉRMINO: \" + str(max_len_termino) + \" caracteres\"\n",
    "print u\"MIN LONG DE UN TÉRMINO: \" + str(min_len_termino) + \" caracteres\"\n",
    "print u\"LONG DE TÉRMINO MEDIANA: \" + str(len_termino_mediana) + \" caracteres\"\n",
    "print u\"CANTIDAD DE TÉRMINOS: \" + str(cant_terminos)\n",
    "print u\"PESO DEL DICCIONARIO: \" + str(peso_dic_as_string / float(1024 * 1024)) + \" megabytes\""
   ]
  },
  {
   "cell_type": "markdown",
   "metadata": {},
   "source": [
    "Ahora grafico mediante un histograma la distribución de las longitudes de los términos."
   ]
  },
  {
   "cell_type": "code",
   "execution_count": 6,
   "metadata": {},
   "outputs": [
    {
     "data": {
      "image/png": "[encoded data removed]",
      "text/plain": [
       "<Figure size 432x288 with 1 Axes>"
      ]
     },
     "metadata": {},
     "output_type": "display_data"
    }
   ],
   "source": [
    "fig, ax = plt.subplots(1,1)\n",
    "ax.hist(len_terminos, bins=max_len_termino / 2, facecolor=\"lightblue\")\n",
    "ax.set_title(u\"Histograma de longitudes de términos\")\n",
    "ax.set_xlabel(u\"Longitud del término\")\n",
    "ax.set_ylabel(u\"Cantidad de términos\")\n",
    "ax.set_xlim([min_len_termino, max_len_termino])\n",
    "ax.set_xticks(xrange(min_len_termino, max_len_termino + 1, 2))\n",
    "ax.grid(True)\n",
    "plt.show(ax)"
   ]
  },
  {
   "cell_type": "markdown",
   "metadata": {},
   "source": [
    "En el caso de que se desee mantener todos los términos de la lista, el tamaño máximo de palabra recomendable seria de 20 bytes que es un valor tomando como referencia. \n",
    "Si en cambio solo se busca un tamaño mas reducido que permita mantener intactos la mayoría de los términos, descartando aquellos que excedan dicha longitud, se podría establecer un límite de entre 13 y 17 bytes."
   ]
  },
  {
   "cell_type": "code",
   "execution_count": 7,
   "metadata": {},
   "outputs": [
    {
     "name": "stdout",
     "output_type": "stream",
     "text": [
      "PORCENTAJE MENOR O IGUAL A 13 CARACTERES: 90.7%\n",
      "PORCENTAJE MENOR O IGUAL A 17 CARACTERES: 99.2%\n"
     ]
    }
   ],
   "source": [
    "cant_menor_igual_13 = sum(1 for leng in len_terminos if leng <= 13)\n",
    "cant_menor_igual_17 = sum(1 for leng in len_terminos if leng <= 17)\n",
    "print \"PORCENTAJE MENOR O IGUAL A 13 CARACTERES: \" + str(round(cant_menor_igual_13 / float(cant_terminos), 3) * 100) + \"%\"\n",
    "print \"PORCENTAJE MENOR O IGUAL A 17 CARACTERES: \" + str(round(cant_menor_igual_17 / float(cant_terminos), 3) * 100) + \"%\""
   ]
  },
  {
   "cell_type": "markdown",
   "metadata": {
    "collapsed": true
   },
   "source": [
    "De todas maneras no es conveniente usar un tamaño fijo para los términos, ya que incluso usando solo 13 caracteres, el tamaño del diccionario resulta superior."
   ]
  },
  {
   "cell_type": "code",
   "execution_count": 8,
   "metadata": {},
   "outputs": [
    {
     "name": "stdout",
     "output_type": "stream",
     "text": [
      "TAMAÑO DICCIONARIO CON BLOQUES FIJOS DE 13 BYTES: 7.10834026337 megabytes\n",
      "TAMAÑO DICCIONARIO CON BLOQUES FIJOS DE 17 BYTES: 8.46230983734 megabytes\n"
     ]
    }
   ],
   "source": [
    "tam_fijo_13 = cant_terminos * 13 + peso_punteros_pos + peso_df\n",
    "tam_fijo_17 = cant_terminos * 17 + peso_punteros_pos + peso_df\n",
    "print u\"TAMAÑO DICCIONARIO CON BLOQUES FIJOS DE 13 BYTES: \" + str(tam_fijo_13 / float(1024 * 1024)) + \" megabytes\"\n",
    "print u\"TAMAÑO DICCIONARIO CON BLOQUES FIJOS DE 17 BYTES: \" + str(tam_fijo_17 / float(1024 * 1024)) + \" megabytes\""
   ]
  },
  {
   "cell_type": "code",
   "execution_count": null,
   "metadata": {
    "collapsed": true
   },
   "outputs": [],
   "source": []
  }
 ],
 "metadata": {
  "kernelspec": {
   "display_name": "Python 2",
   "language": "python",
   "name": "python2"
  },
  "language_info": {
   "codemirror_mode": {
    "name": "ipython",
    "version": 2
   },
   "file_extension": ".py",
   "mimetype": "text/x-python",
   "name": "python",
   "nbconvert_exporter": "python",
   "pygments_lexer": "ipython2",
   "version": "2.7.13"
  }
 },
 "nbformat": 4,
 "nbformat_minor": 2
}
